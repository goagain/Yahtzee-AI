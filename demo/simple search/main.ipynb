{
 "metadata": {
  "language_info": {
   "codemirror_mode": {
    "name": "ipython",
    "version": 3
   },
   "file_extension": ".py",
   "mimetype": "text/x-python",
   "name": "python",
   "nbconvert_exporter": "python",
   "pygments_lexer": "ipython3",
   "version": "3.8.3-final"
  },
  "orig_nbformat": 2,
  "kernelspec": {
   "name": "Python 3.8.3 64-bit ('base': conda)",
   "display_name": "Python 3.8.3 64-bit ('base': conda)",
   "metadata": {
    "interpreter": {
     "hash": "c65576a1f3c1b6cccbbb137830895825cc758a56ab37adc0a94a41a1be81e000"
    }
   }
  }
 },
 "nbformat": 4,
 "nbformat_minor": 2,
 "cells": [
  {
   "cell_type": "code",
   "execution_count": 1,
   "metadata": {
    "tags": []
   },
   "outputs": [],
   "source": [
    "import Controller\n",
    "from YahtzeeStatus import YahtzeeStatus\n",
    "import itertools\n",
    "\n",
    "controller = Controller.Controller()\n",
    "status = YahtzeeStatus()\n"
   ]
  },
  {
   "cell_type": "code",
   "execution_count": 2,
   "metadata": {},
   "outputs": [],
   "source": [
    "RewardTable = {}"
   ]
  },
  {
   "cell_type": "code",
   "execution_count": 3,
   "metadata": {
    "tags": []
   },
   "outputs": [],
   "source": [
    "import itertools\n",
    "class sequence_generator:\n",
    "    def __init__(self):\n",
    "        self.results = {}\n",
    "    def _gen(self, n):\n",
    "        l = list(itertools.product(range(1, 7), repeat=n))\n",
    "        m = {}\n",
    "        for dices in l:\n",
    "            dd = list(dices)\n",
    "            dd.sort()\n",
    "            tup = tuple(dd)\n",
    "            if tup in m:\n",
    "                m[tup] += 1\n",
    "            else:\n",
    "                m[tup] = 1\n",
    "        return m, len(l)\n",
    "    def gen_sequence(self, n=5):\n",
    "        if n not in self.results:\n",
    "            self.results[n] = self._gen(n)\n",
    "        \n",
    "        return self.results[n]\n",
    "\n",
    "seq_gen = sequence_generator()\n",
    "\n",
    "def CountBits(n):\n",
    "    n = (n & 0x5555555555555555) + ((n & 0xAAAAAAAAAAAAAAAA) >> 1)\n",
    "    n = (n & 0x3333333333333333) + ((n & 0xCCCCCCCCCCCCCCCC) >> 2)\n",
    "    n = (n & 0x0F0F0F0F0F0F0F0F) + ((n & 0xF0F0F0F0F0F0F0F0) >> 4)\n",
    "    n = (n & 0x00FF00FF00FF00FF) + ((n & 0xFF00FF00FF00FF00) >> 8)\n",
    "    n = (n & 0x0000FFFF0000FFFF) + ((n & 0xFFFF0000FFFF0000) >> 16)\n",
    "    n = (n & 0x00000000FFFFFFFF) + ((n & 0xFFFFFFFF00000000) >> 32) # This last & isn't strictly necessary.\n",
    "    return n"
   ]
  },
  {
   "cell_type": "code",
   "execution_count": 7,
   "metadata": {},
   "outputs": [],
   "source": [
    "def get_expect(status_code) -> float:\n",
    "    if status_code in RewardTable:\n",
    "        return RewardTable[status_code]\n",
    "\n",
    "    state, dice_hash, numerical, reroll_times = YahtzeeStatus.parse_status_code(\n",
    "        status_code)\n",
    "    # print(state, dice_hash, numerical, reroll_times)\n",
    "    dices = YahtzeeStatus.parse_dices(dice_hash)\n",
    "\n",
    "    if CountBits(state) == len(controller.basic_scores):\n",
    "        return 0\n",
    "    if dice_hash > 10000:\n",
    "        writables = controller.get_writable_by_statuscode(status_code)\n",
    "\n",
    "        expect = 0\n",
    "        for w in writables:\n",
    "            new_status = controller.write_by_statuscode(status_code, w)\n",
    "\n",
    "            new_expect = get_expect(\n",
    "                new_status) + controller.judge_by_statuscode(status_code, w)\n",
    "            if new_expect > expect:\n",
    "                expect = new_expect\n",
    "        if reroll_times > 0:\n",
    "            for kept in range(5):\n",
    "                new_dices_set = set(itertools.combinations(dices, kept))\n",
    "                for dices in new_dices_set:\n",
    "                    new_status = YahtzeeStatus.compose_status_code(state, YahtzeeStatus.compose_dices(dices),\n",
    "                                                                   numerical, reroll_times - 1)\n",
    "                    if get_expect(new_status) > expect:\n",
    "                        expect = get_expect(new_status)\n",
    "    else:\n",
    "        kept = len(dices)\n",
    "        comings, total = seq_gen.gen_sequence(5-kept)\n",
    "        expect = 0\n",
    "        for coming_dices in comings:\n",
    "            count = comings[coming_dices]\n",
    "\n",
    "            probability = count / len(comings)\n",
    "            new_dices = list(dices) + list(coming_dices)\n",
    "            new_status = YahtzeeStatus.compose_status_code(state, YahtzeeStatus.compose_dices(new_dices),\n",
    "                                                           numerical, reroll_times)\n",
    "            # print(new_status)\n",
    "            expect += get_expect(new_status) * probability\n",
    "\n",
    "    RewardTable[status_code] = expect\n",
    "    if(len(RewardTable) % 100000 == 0):\n",
    "        print(len(RewardTable))\n",
    "    return expect\n"
   ]
  },
  {
   "cell_type": "code",
   "execution_count": 5,
   "metadata": {
    "tags": []
   },
   "outputs": [
    {
     "output_type": "stream",
     "name": "stdout",
     "text": "0\n{}\n"
    }
   ],
   "source": [
    "print(len(RewardTable))\n",
    "print(RewardTable)"
   ]
  },
  {
   "cell_type": "code",
   "execution_count": 8,
   "metadata": {
    "tags": []
   },
   "outputs": [
    {
     "output_type": "stream",
     "name": "stdout",
     "text": "700000\n800000\n900000\n1000000\n1100000\n1200000\n1300000\n1400000\n1500000\n1600000\n1700000\n1800000\n1900000\n2000000\n2100000\n2200000\n2300000\n2400000\n2500000\n2600000\n2700000\n2800000\n2900000\n3000000\n3100000\n3200000\n3300000\n3400000\n3500000\n3600000\n3700000\n3800000\n3900000\n4000000\n4100000\n4200000\n4300000\n4400000\n4500000\n4600000\n4700000\n4800000\n4900000\n5000000\n5100000\n5200000\n5300000\n5400000\n5500000\n5600000\n5700000\n5800000\n5900000\n6000000\n6100000\n6200000\n6300000\n6400000\n6500000\n6600000\n6700000\n6800000\n6900000\n7000000\n7100000\n7200000\n7300000\n7400000\n7500000\n7600000\n7700000\n7800000\n7900000\n8000000\n8100000\n8200000\n8300000\n8400000\n8500000\n8600000\n8700000\n8800000\n8900000\n9000000\n9100000\n9200000\n9300000\n9400000\n9500000\n9600000\n9700000\n9800000\n9900000\n10000000\n10100000\n10200000\n10300000\n10400000\n10500000\n10600000\n10700000\n10800000\n10900000\n11000000\n11100000\n11200000\n11300000\n11400000\n11500000\n11600000\n11700000\n11800000\n11900000\n12000000\n12100000\n12200000\n12300000\n12400000\n12500000\n12600000\n12700000\n12800000\n12900000\n13000000\n13100000\n13200000\n13300000\n13400000\n13500000\n13600000\n13700000\n13800000\n13900000\n14000000\n14100000\n14200000\n14300000\n14400000\n14500000\n14600000\n14700000\n14800000\n14900000\n15000000\n15100000\n15200000\n15300000\n15400000\n15500000\n15600000\n15700000\n15800000\n15900000\n16000000\n16100000\n16200000\n16300000\n16400000\n16500000\n16600000\n16700000\n16800000\n16900000\n17000000\n17100000\n17200000\n17300000\n17400000\n17500000\n17600000\n17700000\n17800000\n17900000\n18000000\n18100000\n18200000\n18300000\n18400000\n18500000\n18600000\n18700000\n18800000\n18900000\n19000000\n19100000\n19200000\n19300000\n19400000\n19500000\n19600000\n19700000\n19800000\n19900000\n20000000\n20100000\n20200000\n20300000\n20400000\n20500000\n20600000\n20700000\n20800000\n20900000\n21000000\n21100000\n21200000\n21300000\n21400000\n21500000\n21600000\n21700000\n21800000\n21900000\n22000000\n22100000\n22200000\n22300000\n22400000\n22500000\n22600000\n22700000\n22800000\n22900000\n23000000\n23100000\n23200000\n23300000\n23400000\n23500000\n23600000\n23700000\n23800000\n23900000\n24000000\n24100000\n24200000\n24300000\n24400000\n24500000\n24600000\n24700000\n24800000\n24900000\n25000000\n25100000\n25200000\n25300000\n25400000\n25500000\n25600000\n25700000\n25800000\n25900000\n26000000\n26100000\n26200000\n26300000\n26400000\n26500000\n26600000\n26700000\n26800000\n26900000\n27000000\n27100000\n27200000\n27300000\n27400000\n27500000\n27600000\n27700000\n27800000\n27900000\n28000000\n28100000\n28200000\n28300000\n28400000\n28500000\n28600000\n28700000\n28800000\n28900000\n29000000\n29100000\n29200000\n29300000\n29400000\n29500000\n29600000\n29700000\n29800000\n29900000\n30000000\n30100000\n30200000\n30300000\n30400000\n30500000\n30600000\n30700000\n30800000\n30900000\n31000000\n31100000\n31200000\n31300000\n31400000\n31500000\n31600000\n31700000\n31800000\n31900000\n32000000\n32100000\n32200000\n32300000\n32400000\n32500000\n32600000\n32700000\n32800000\n32900000\n33000000\n33100000\n33200000\n33300000\n33400000\n33500000\n33600000\n33700000\n33800000\n33900000\n34000000\n34100000\n34200000\n34300000\n34400000\n34500000\n34600000\n34700000\n34800000\n34900000\n35000000\n35100000\n35200000\n35300000\n35400000\n35500000\n35600000\n35700000\n35800000\n35900000\n36000000\n36100000\n36200000\n36300000\n36400000\n36500000\n36600000\n36700000\n36800000\n36900000\n37000000\n37100000\n37200000\n37300000\n37400000\n37500000\n37600000\n37700000\n37800000\n37900000\n38000000\n38100000\n38200000\n38300000\n38400000\n38500000\n38600000\n38700000\n38800000\n38900000\n39000000\n39100000\n39200000\n39300000\n39400000\n39500000\n39600000\n39700000\n39800000\n39900000\n40000000\n40100000\n40200000\n40300000\n40400000\n40500000\n40600000\n40700000\n40800000\n40900000\n41000000\n41100000\n41200000\n41300000\n41400000\n41500000\n41600000\n41700000\n41800000\n41900000\n42000000\n42100000\n42200000\n42300000\n42400000\n42500000\n42600000\n42700000\n42800000\n42900000\n43000000\n43100000\n43200000\n43300000\n43400000\n43500000\n43600000\n43700000\n43800000\n43900000\n44000000\n44100000\n44200000\n44300000\n44400000\n44500000\n44600000\n44700000\n44800000\n44900000\n45000000\n45100000\n45200000\n45300000\n45400000\n45500000\n45600000\n45700000\n45800000\n45900000\n46000000\n46100000\n46200000\n46300000\n46400000\n46500000\n46600000\n46700000\n46800000\n46900000\n47000000\n47100000\n47200000\n47300000\n47400000\n47500000\n47600000\n47700000\n47800000\n47900000\n48000000\n48100000\n48200000\n48300000\n48400000\n48500000\n48600000\n48700000\n48800000\n48900000\n49000000\n49100000\n49200000\n49300000\n49400000\n49500000\n49600000\n49700000\n49800000\n49900000\n50000000\n50100000\n50200000\n50300000\n50400000\n50500000\n50600000\n50700000\n50800000\n50900000\n51000000\n51100000\n51200000\n51300000\n51400000\n51500000\n51600000\n51700000\n51800000\n51900000\n52000000\n52100000\n52200000\n52300000\n52400000\n52500000\n52600000\n52700000\n52800000\n52900000\n53000000\n53100000\n53200000\n53300000\n53400000\n53500000\n53600000\n53700000\n53800000\n53900000\n54000000\n54100000\n54200000\n54300000\n54400000\n54500000\n54600000\n54700000\n54800000\n54900000\n55000000\n55100000\n55200000\n55300000\n55400000\n55500000\n55600000\n55700000\n55800000\n55900000\n56000000\n56100000\n56200000\n56300000\n56400000\n56500000\n56600000\n56700000\n56800000\n56900000\n57000000\n57100000\n57200000\n57300000\n57400000\n57500000\n57600000\n57700000\n57800000\n57900000\n58000000\n58100000\n58200000\n58300000\n58400000\n58500000\n58600000\n58700000\n58800000\n58900000\n59000000\n59100000\n59200000\n59300000\n59400000\n59500000\n59600000\n59700000\n59800000\n59900000\n60000000\n60100000\n60200000\n60300000\n60400000\n60500000\n60600000\n60700000\n60800000\n60900000\n61000000\n61100000\n61200000\n61300000\n61400000\n61500000\n61600000\n61700000\n61800000\n61900000\n62000000\n62100000\n62200000\n62300000\n62400000\n62500000\n62600000\n62700000\n62800000\n62900000\n63000000\n63100000\n63200000\n63300000\n63400000\n63500000\n63600000\n63700000\n63800000\n63900000\n64000000\n64100000\n64200000\n64300000\n64400000\n64500000\n64600000\n64700000\n64800000\n64900000\n65000000\n65100000\n65200000\n65300000\n65400000\n65500000\n65600000\n65700000\n65800000\n65900000\n66000000\n66100000\n66200000\n66300000\n66400000\n66500000\n66600000\n66700000\n66800000\n66900000\n67000000\n67100000\n67200000\n67300000\n67400000\n67500000\n67600000\n67700000\n67800000\n67900000\n68000000\n68100000\n68200000\n68300000\n68400000\n68500000\n68600000\n68700000\n68800000\n68900000\n69000000\n69100000\n69200000\n69300000\n69400000\n69500000\n69600000\n69700000\n69800000\n69900000\n70000000\n70100000\n70200000\n70300000\n70400000\n70500000\n70600000\n70700000\n70800000\n70900000\n71000000\n71100000\n71200000\n71300000\n71400000\n71500000\n71600000\n71700000\n71800000\n71900000\n72000000\n72100000\n72200000\n72300000\n72400000\n72500000\n72600000\n72700000\n72800000\n72900000\n73000000\n73100000\n73200000\n73300000\n73400000\n73500000\n73600000\n73700000\n73800000\n73900000\n74000000\n74100000\n74200000\n74300000\n74400000\n74500000\n74600000\n74700000\n74800000\n74900000\n75000000\n75100000\n75200000\n75300000\n75400000\n75500000\n75600000\n75700000\n75800000\n75900000\n76000000\n76100000\n76200000\n76300000\n76400000\n76500000\n76600000\n76700000\n76800000\n76900000\n77000000\n77100000\n77200000\n77300000\n77400000\n77500000\n77600000\n77700000\n77800000\n77900000\n78000000\n78100000\n78200000\n78300000\n78400000\n78500000\n78600000\n78700000\n78800000\n78900000\n79000000\n79100000\n79200000\n79300000\n79400000\n79500000\n79600000\n79700000\n79800000\n79900000\n80000000\n80100000\n80200000\n80300000\n80400000\n80500000\n80600000\n80700000\n80800000\n80900000\n81000000\n81100000\n81200000\n81300000\n81400000\n81500000\n81600000\n81700000\n81800000\n81900000\n82000000\n82100000\n"
    },
    {
     "output_type": "error",
     "ename": "KeyboardInterrupt",
     "evalue": "",
     "traceback": [
      "\u001b[1;31m---------------------------------------------------------------------------\u001b[0m",
      "\u001b[1;31mKeyboardInterrupt\u001b[0m                         Traceback (most recent call last)",
      "\u001b[1;32m&lt;ipython-input-8-139a8f28cdcf&gt;\u001b[0m in \u001b[0;36m&lt;module&gt;\u001b[1;34m\u001b[0m\n\u001b[0;32m      1\u001b[0m \u001b[0minit_status\u001b[0m \u001b[1;33m=\u001b[0m \u001b[1;36m2\u001b[0m\u001b[1;33m\u001b[0m\u001b[1;33m\u001b[0m\u001b[0m\n\u001b[1;32m----&gt; 2\u001b[1;33m \u001b[0mprint\u001b[0m\u001b[1;33m(\u001b[0m\u001b[0mget_expect\u001b[0m\u001b[1;33m(\u001b[0m\u001b[0minit_status\u001b[0m\u001b[1;33m)\u001b[0m\u001b[1;33m)\u001b[0m\u001b[1;33m\u001b[0m\u001b[1;33m\u001b[0m\u001b[0m\n\u001b[0m",
      "\u001b[1;32m&lt;ipython-input-7-733ad6c27cc4&gt;\u001b[0m in \u001b[0;36mget_expect\u001b[1;34m(status_code)\u001b[0m\n\u001b[0;32m     41\u001b[0m                                                            numerical, reroll_times)\n\u001b[0;32m     42\u001b[0m             \u001b[1;31m# print(new_status)\u001b[0m\u001b[1;33m\u001b[0m\u001b[1;33m\u001b[0m\u001b[1;33m\u001b[0m\u001b[0m\n\u001b[1;32m---&gt; 43\u001b[1;33m             \u001b[0mexpect\u001b[0m \u001b[1;33m+=\u001b[0m \u001b[0mget_expect\u001b[0m\u001b[1;33m(\u001b[0m\u001b[0mnew_status\u001b[0m\u001b[1;33m)\u001b[0m \u001b[1;33m*\u001b[0m \u001b[0mprobability\u001b[0m\u001b[1;33m\u001b[0m\u001b[1;33m\u001b[0m\u001b[0m\n\u001b[0m\u001b[0;32m     44\u001b[0m \u001b[1;33m\u001b[0m\u001b[0m\n\u001b[0;32m     45\u001b[0m     \u001b[0mRewardTable\u001b[0m\u001b[1;33m[\u001b[0m\u001b[0mstatus_code\u001b[0m\u001b[1;33m]\u001b[0m \u001b[1;33m=\u001b[0m \u001b[0mexpect\u001b[0m\u001b[1;33m\u001b[0m\u001b[1;33m\u001b[0m\u001b[0m\n",
      "\u001b[1;32m&lt;ipython-input-7-733ad6c27cc4&gt;\u001b[0m in \u001b[0;36mget_expect\u001b[1;34m(status_code)\u001b[0m\n\u001b[0;32m     17\u001b[0m             \u001b[0mnew_status\u001b[0m \u001b[1;33m=\u001b[0m \u001b[0mcontroller\u001b[0m\u001b[1;33m.\u001b[0m\u001b[0mwrite_by_statuscode\u001b[0m\u001b[1;33m(\u001b[0m\u001b[0mstatus_code\u001b[0m\u001b[1;33m,\u001b[0m \u001b[0mw\u001b[0m\u001b[1;33m)\u001b[0m\u001b[1;33m\u001b[0m\u001b[1;33m\u001b[0m\u001b[0m\n\u001b[0;32m     18\u001b[0m \u001b[1;33m\u001b[0m\u001b[0m\n\u001b[1;32m---&gt; 19\u001b[1;33m             new_expect = get_expect(\n\u001b[0m\u001b[0;32m     20\u001b[0m                 new_status) + controller.judge_by_statuscode(status_code, w)\n\u001b[0;32m     21\u001b[0m             \u001b[1;32mif\u001b[0m \u001b[0mnew_expect\u001b[0m \u001b[1;33m&gt;\u001b[0m \u001b[0mexpect\u001b[0m\u001b[1;33m:\u001b[0m\u001b[1;33m\u001b[0m\u001b[1;33m\u001b[0m\u001b[0m\n",
      "\u001b[1;32m&lt;ipython-input-7-733ad6c27cc4&gt;\u001b[0m in \u001b[0;36mget_expect\u001b[1;34m(status_code)\u001b[0m\n\u001b[0;32m     41\u001b[0m                                                            numerical, reroll_times)\n\u001b[0;32m     42\u001b[0m             \u001b[1;31m# print(new_status)\u001b[0m\u001b[1;33m\u001b[0m\u001b[1;33m\u001b[0m\u001b[1;33m\u001b[0m\u001b[0m\n\u001b[1;32m---&gt; 43\u001b[1;33m             \u001b[0mexpect\u001b[0m \u001b[1;33m+=\u001b[0m \u001b[0mget_expect\u001b[0m\u001b[1;33m(\u001b[0m\u001b[0mnew_status\u001b[0m\u001b[1;33m)\u001b[0m \u001b[1;33m*\u001b[0m \u001b[0mprobability\u001b[0m\u001b[1;33m\u001b[0m\u001b[1;33m\u001b[0m\u001b[0m\n\u001b[0m\u001b[0;32m     44\u001b[0m \u001b[1;33m\u001b[0m\u001b[0m\n\u001b[0;32m     45\u001b[0m     \u001b[0mRewardTable\u001b[0m\u001b[1;33m[\u001b[0m\u001b[0mstatus_code\u001b[0m\u001b[1;33m]\u001b[0m \u001b[1;33m=\u001b[0m \u001b[0mexpect\u001b[0m\u001b[1;33m\u001b[0m\u001b[1;33m\u001b[0m\u001b[0m\n",
      "\u001b[1;32m&lt;ipython-input-7-733ad6c27cc4&gt;\u001b[0m in \u001b[0;36mget_expect\u001b[1;34m(status_code)\u001b[0m\n\u001b[0;32m     17\u001b[0m             \u001b[0mnew_status\u001b[0m \u001b[1;33m=\u001b[0m \u001b[0mcontroller\u001b[0m\u001b[1;33m.\u001b[0m\u001b[0mwrite_by_statuscode\u001b[0m\u001b[1;33m(\u001b[0m\u001b[0mstatus_code\u001b[0m\u001b[1;33m,\u001b[0m \u001b[0mw\u001b[0m\u001b[1;33m)\u001b[0m\u001b[1;33m\u001b[0m\u001b[1;33m\u001b[0m\u001b[0m\n\u001b[0;32m     18\u001b[0m \u001b[1;33m\u001b[0m\u001b[0m\n\u001b[1;32m---&gt; 19\u001b[1;33m             new_expect = get_expect(\n\u001b[0m\u001b[0;32m     20\u001b[0m                 new_status) + controller.judge_by_statuscode(status_code, w)\n\u001b[0;32m     21\u001b[0m             \u001b[1;32mif\u001b[0m \u001b[0mnew_expect\u001b[0m \u001b[1;33m&gt;\u001b[0m \u001b[0mexpect\u001b[0m\u001b[1;33m:\u001b[0m\u001b[1;33m\u001b[0m\u001b[1;33m\u001b[0m\u001b[0m\n",
      "\u001b[1;32m&lt;ipython-input-7-733ad6c27cc4&gt;\u001b[0m in \u001b[0;36mget_expect\u001b[1;34m(status_code)\u001b[0m\n\u001b[0;32m     41\u001b[0m                                                            numerical, reroll_times)\n\u001b[0;32m     42\u001b[0m             \u001b[1;31m# print(new_status)\u001b[0m\u001b[1;33m\u001b[0m\u001b[1;33m\u001b[0m\u001b[1;33m\u001b[0m\u001b[0m\n\u001b[1;32m---&gt; 43\u001b[1;33m             \u001b[0mexpect\u001b[0m \u001b[1;33m+=\u001b[0m \u001b[0mget_expect\u001b[0m\u001b[1;33m(\u001b[0m\u001b[0mnew_status\u001b[0m\u001b[1;33m)\u001b[0m \u001b[1;33m*\u001b[0m \u001b[0mprobability\u001b[0m\u001b[1;33m\u001b[0m\u001b[1;33m\u001b[0m\u001b[0m\n\u001b[0m\u001b[0;32m     44\u001b[0m \u001b[1;33m\u001b[0m\u001b[0m\n\u001b[0;32m     45\u001b[0m     \u001b[0mRewardTable\u001b[0m\u001b[1;33m[\u001b[0m\u001b[0mstatus_code\u001b[0m\u001b[1;33m]\u001b[0m \u001b[1;33m=\u001b[0m \u001b[0mexpect\u001b[0m\u001b[1;33m\u001b[0m\u001b[1;33m\u001b[0m\u001b[0m\n",
      "\u001b[1;32m&lt;ipython-input-7-733ad6c27cc4&gt;\u001b[0m in \u001b[0;36mget_expect\u001b[1;34m(status_code)\u001b[0m\n\u001b[0;32m     17\u001b[0m             \u001b[0mnew_status\u001b[0m \u001b[1;33m=\u001b[0m \u001b[0mcontroller\u001b[0m\u001b[1;33m.\u001b[0m\u001b[0mwrite_by_statuscode\u001b[0m\u001b[1;33m(\u001b[0m\u001b[0mstatus_code\u001b[0m\u001b[1;33m,\u001b[0m \u001b[0mw\u001b[0m\u001b[1;33m)\u001b[0m\u001b[1;33m\u001b[0m\u001b[1;33m\u001b[0m\u001b[0m\n\u001b[0;32m     18\u001b[0m \u001b[1;33m\u001b[0m\u001b[0m\n\u001b[1;32m---&gt; 19\u001b[1;33m             new_expect = get_expect(\n\u001b[0m\u001b[0;32m     20\u001b[0m                 new_status) + controller.judge_by_statuscode(status_code, w)\n\u001b[0;32m     21\u001b[0m             \u001b[1;32mif\u001b[0m \u001b[0mnew_expect\u001b[0m \u001b[1;33m&gt;\u001b[0m \u001b[0mexpect\u001b[0m\u001b[1;33m:\u001b[0m\u001b[1;33m\u001b[0m\u001b[1;33m\u001b[0m\u001b[0m\n",
      "\u001b[1;32m&lt;ipython-input-7-733ad6c27cc4&gt;\u001b[0m in \u001b[0;36mget_expect\u001b[1;34m(status_code)\u001b[0m\n\u001b[0;32m     41\u001b[0m                                                            numerical, reroll_times)\n\u001b[0;32m     42\u001b[0m             \u001b[1;31m# print(new_status)\u001b[0m\u001b[1;33m\u001b[0m\u001b[1;33m\u001b[0m\u001b[1;33m\u001b[0m\u001b[0m\n\u001b[1;32m---&gt; 43\u001b[1;33m             \u001b[0mexpect\u001b[0m \u001b[1;33m+=\u001b[0m \u001b[0mget_expect\u001b[0m\u001b[1;33m(\u001b[0m\u001b[0mnew_status\u001b[0m\u001b[1;33m)\u001b[0m \u001b[1;33m*\u001b[0m \u001b[0mprobability\u001b[0m\u001b[1;33m\u001b[0m\u001b[1;33m\u001b[0m\u001b[0m\n\u001b[0m\u001b[0;32m     44\u001b[0m \u001b[1;33m\u001b[0m\u001b[0m\n\u001b[0;32m     45\u001b[0m     \u001b[0mRewardTable\u001b[0m\u001b[1;33m[\u001b[0m\u001b[0mstatus_code\u001b[0m\u001b[1;33m]\u001b[0m \u001b[1;33m=\u001b[0m \u001b[0mexpect\u001b[0m\u001b[1;33m\u001b[0m\u001b[1;33m\u001b[0m\u001b[0m\n",
      "\u001b[1;32m&lt;ipython-input-7-733ad6c27cc4&gt;\u001b[0m in \u001b[0;36mget_expect\u001b[1;34m(status_code)\u001b[0m\n\u001b[0;32m     17\u001b[0m             \u001b[0mnew_status\u001b[0m \u001b[1;33m=\u001b[0m \u001b[0mcontroller\u001b[0m\u001b[1;33m.\u001b[0m\u001b[0mwrite_by_statuscode\u001b[0m\u001b[1;33m(\u001b[0m\u001b[0mstatus_code\u001b[0m\u001b[1;33m,\u001b[0m \u001b[0mw\u001b[0m\u001b[1;33m)\u001b[0m\u001b[1;33m\u001b[0m\u001b[1;33m\u001b[0m\u001b[0m\n\u001b[0;32m     18\u001b[0m \u001b[1;33m\u001b[0m\u001b[0m\n\u001b[1;32m---&gt; 19\u001b[1;33m             new_expect = get_expect(\n\u001b[0m\u001b[0;32m     20\u001b[0m                 new_status) + controller.judge_by_statuscode(status_code, w)\n\u001b[0;32m     21\u001b[0m             \u001b[1;32mif\u001b[0m \u001b[0mnew_expect\u001b[0m \u001b[1;33m&gt;\u001b[0m \u001b[0mexpect\u001b[0m\u001b[1;33m:\u001b[0m\u001b[1;33m\u001b[0m\u001b[1;33m\u001b[0m\u001b[0m\n",
      "\u001b[1;32m&lt;ipython-input-7-733ad6c27cc4&gt;\u001b[0m in \u001b[0;36mget_expect\u001b[1;34m(status_code)\u001b[0m\n\u001b[0;32m     41\u001b[0m                                                            numerical, reroll_times)\n\u001b[0;32m     42\u001b[0m             \u001b[1;31m# print(new_status)\u001b[0m\u001b[1;33m\u001b[0m\u001b[1;33m\u001b[0m\u001b[1;33m\u001b[0m\u001b[0m\n\u001b[1;32m---&gt; 43\u001b[1;33m             \u001b[0mexpect\u001b[0m \u001b[1;33m+=\u001b[0m \u001b[0mget_expect\u001b[0m\u001b[1;33m(\u001b[0m\u001b[0mnew_status\u001b[0m\u001b[1;33m)\u001b[0m \u001b[1;33m*\u001b[0m \u001b[0mprobability\u001b[0m\u001b[1;33m\u001b[0m\u001b[1;33m\u001b[0m\u001b[0m\n\u001b[0m\u001b[0;32m     44\u001b[0m \u001b[1;33m\u001b[0m\u001b[0m\n\u001b[0;32m     45\u001b[0m     \u001b[0mRewardTable\u001b[0m\u001b[1;33m[\u001b[0m\u001b[0mstatus_code\u001b[0m\u001b[1;33m]\u001b[0m \u001b[1;33m=\u001b[0m \u001b[0mexpect\u001b[0m\u001b[1;33m\u001b[0m\u001b[1;33m\u001b[0m\u001b[0m\n",
      "\u001b[1;32m&lt;ipython-input-7-733ad6c27cc4&gt;\u001b[0m in \u001b[0;36mget_expect\u001b[1;34m(status_code)\u001b[0m\n\u001b[0;32m     17\u001b[0m             \u001b[0mnew_status\u001b[0m \u001b[1;33m=\u001b[0m \u001b[0mcontroller\u001b[0m\u001b[1;33m.\u001b[0m\u001b[0mwrite_by_statuscode\u001b[0m\u001b[1;33m(\u001b[0m\u001b[0mstatus_code\u001b[0m\u001b[1;33m,\u001b[0m \u001b[0mw\u001b[0m\u001b[1;33m)\u001b[0m\u001b[1;33m\u001b[0m\u001b[1;33m\u001b[0m\u001b[0m\n\u001b[0;32m     18\u001b[0m \u001b[1;33m\u001b[0m\u001b[0m\n\u001b[1;32m---&gt; 19\u001b[1;33m             new_expect = get_expect(\n\u001b[0m\u001b[0;32m     20\u001b[0m                 new_status) + controller.judge_by_statuscode(status_code, w)\n\u001b[0;32m     21\u001b[0m             \u001b[1;32mif\u001b[0m \u001b[0mnew_expect\u001b[0m \u001b[1;33m&gt;\u001b[0m \u001b[0mexpect\u001b[0m\u001b[1;33m:\u001b[0m\u001b[1;33m\u001b[0m\u001b[1;33m\u001b[0m\u001b[0m\n",
      "\u001b[1;32m&lt;ipython-input-7-733ad6c27cc4&gt;\u001b[0m in \u001b[0;36mget_expect\u001b[1;34m(status_code)\u001b[0m\n\u001b[0;32m     41\u001b[0m                                                            numerical, reroll_times)\n\u001b[0;32m     42\u001b[0m             \u001b[1;31m# print(new_status)\u001b[0m\u001b[1;33m\u001b[0m\u001b[1;33m\u001b[0m\u001b[1;33m\u001b[0m\u001b[0m\n\u001b[1;32m---&gt; 43\u001b[1;33m             \u001b[0mexpect\u001b[0m \u001b[1;33m+=\u001b[0m \u001b[0mget_expect\u001b[0m\u001b[1;33m(\u001b[0m\u001b[0mnew_status\u001b[0m\u001b[1;33m)\u001b[0m \u001b[1;33m*\u001b[0m \u001b[0mprobability\u001b[0m\u001b[1;33m\u001b[0m\u001b[1;33m\u001b[0m\u001b[0m\n\u001b[0m\u001b[0;32m     44\u001b[0m \u001b[1;33m\u001b[0m\u001b[0m\n\u001b[0;32m     45\u001b[0m     \u001b[0mRewardTable\u001b[0m\u001b[1;33m[\u001b[0m\u001b[0mstatus_code\u001b[0m\u001b[1;33m]\u001b[0m \u001b[1;33m=\u001b[0m \u001b[0mexpect\u001b[0m\u001b[1;33m\u001b[0m\u001b[1;33m\u001b[0m\u001b[0m\n",
      "\u001b[1;32m&lt;ipython-input-7-733ad6c27cc4&gt;\u001b[0m in \u001b[0;36mget_expect\u001b[1;34m(status_code)\u001b[0m\n\u001b[0;32m     17\u001b[0m             \u001b[0mnew_status\u001b[0m \u001b[1;33m=\u001b[0m \u001b[0mcontroller\u001b[0m\u001b[1;33m.\u001b[0m\u001b[0mwrite_by_statuscode\u001b[0m\u001b[1;33m(\u001b[0m\u001b[0mstatus_code\u001b[0m\u001b[1;33m,\u001b[0m \u001b[0mw\u001b[0m\u001b[1;33m)\u001b[0m\u001b[1;33m\u001b[0m\u001b[1;33m\u001b[0m\u001b[0m\n\u001b[0;32m     18\u001b[0m \u001b[1;33m\u001b[0m\u001b[0m\n\u001b[1;32m---&gt; 19\u001b[1;33m             new_expect = get_expect(\n\u001b[0m\u001b[0;32m     20\u001b[0m                 new_status) + controller.judge_by_statuscode(status_code, w)\n\u001b[0;32m     21\u001b[0m             \u001b[1;32mif\u001b[0m \u001b[0mnew_expect\u001b[0m \u001b[1;33m&gt;\u001b[0m \u001b[0mexpect\u001b[0m\u001b[1;33m:\u001b[0m\u001b[1;33m\u001b[0m\u001b[1;33m\u001b[0m\u001b[0m\n",
      "\u001b[1;32m&lt;ipython-input-7-733ad6c27cc4&gt;\u001b[0m in \u001b[0;36mget_expect\u001b[1;34m(status_code)\u001b[0m\n\u001b[0;32m     41\u001b[0m                                                            numerical, reroll_times)\n\u001b[0;32m     42\u001b[0m             \u001b[1;31m# print(new_status)\u001b[0m\u001b[1;33m\u001b[0m\u001b[1;33m\u001b[0m\u001b[1;33m\u001b[0m\u001b[0m\n\u001b[1;32m---&gt; 43\u001b[1;33m             \u001b[0mexpect\u001b[0m \u001b[1;33m+=\u001b[0m \u001b[0mget_expect\u001b[0m\u001b[1;33m(\u001b[0m\u001b[0mnew_status\u001b[0m\u001b[1;33m)\u001b[0m \u001b[1;33m*\u001b[0m \u001b[0mprobability\u001b[0m\u001b[1;33m\u001b[0m\u001b[1;33m\u001b[0m\u001b[0m\n\u001b[0m\u001b[0;32m     44\u001b[0m \u001b[1;33m\u001b[0m\u001b[0m\n\u001b[0;32m     45\u001b[0m     \u001b[0mRewardTable\u001b[0m\u001b[1;33m[\u001b[0m\u001b[0mstatus_code\u001b[0m\u001b[1;33m]\u001b[0m \u001b[1;33m=\u001b[0m \u001b[0mexpect\u001b[0m\u001b[1;33m\u001b[0m\u001b[1;33m\u001b[0m\u001b[0m\n",
      "\u001b[1;32m&lt;ipython-input-7-733ad6c27cc4&gt;\u001b[0m in \u001b[0;36mget_expect\u001b[1;34m(status_code)\u001b[0m\n\u001b[0;32m     27\u001b[0m                     new_status = YahtzeeStatus.compose_status_code(state, YahtzeeStatus.compose_dices(dices),\n\u001b[0;32m     28\u001b[0m                                                                    numerical, reroll_times - 1)\n\u001b[1;32m---&gt; 29\u001b[1;33m                     \u001b[1;32mif\u001b[0m \u001b[0mget_expect\u001b[0m\u001b[1;33m(\u001b[0m\u001b[0mnew_status\u001b[0m\u001b[1;33m)\u001b[0m \u001b[1;33m&gt;\u001b[0m \u001b[0mexpect\u001b[0m\u001b[1;33m:\u001b[0m\u001b[1;33m\u001b[0m\u001b[1;33m\u001b[0m\u001b[0m\n\u001b[0m\u001b[0;32m     30\u001b[0m                         \u001b[0mexpect\u001b[0m \u001b[1;33m=\u001b[0m \u001b[0mget_expect\u001b[0m\u001b[1;33m(\u001b[0m\u001b[0mnew_status\u001b[0m\u001b[1;33m)\u001b[0m\u001b[1;33m\u001b[0m\u001b[1;33m\u001b[0m\u001b[0m\n\u001b[0;32m     31\u001b[0m     \u001b[1;32melse\u001b[0m\u001b[1;33m:\u001b[0m\u001b[1;33m\u001b[0m\u001b[1;33m\u001b[0m\u001b[0m\n",
      "\u001b[1;32m&lt;ipython-input-7-733ad6c27cc4&gt;\u001b[0m in \u001b[0;36mget_expect\u001b[1;34m(status_code)\u001b[0m\n\u001b[0;32m     41\u001b[0m                                                            numerical, reroll_times)\n\u001b[0;32m     42\u001b[0m             \u001b[1;31m# print(new_status)\u001b[0m\u001b[1;33m\u001b[0m\u001b[1;33m\u001b[0m\u001b[1;33m\u001b[0m\u001b[0m\n\u001b[1;32m---&gt; 43\u001b[1;33m             \u001b[0mexpect\u001b[0m \u001b[1;33m+=\u001b[0m \u001b[0mget_expect\u001b[0m\u001b[1;33m(\u001b[0m\u001b[0mnew_status\u001b[0m\u001b[1;33m)\u001b[0m \u001b[1;33m*\u001b[0m \u001b[0mprobability\u001b[0m\u001b[1;33m\u001b[0m\u001b[1;33m\u001b[0m\u001b[0m\n\u001b[0m\u001b[0;32m     44\u001b[0m \u001b[1;33m\u001b[0m\u001b[0m\n\u001b[0;32m     45\u001b[0m     \u001b[0mRewardTable\u001b[0m\u001b[1;33m[\u001b[0m\u001b[0mstatus_code\u001b[0m\u001b[1;33m]\u001b[0m \u001b[1;33m=\u001b[0m \u001b[0mexpect\u001b[0m\u001b[1;33m\u001b[0m\u001b[1;33m\u001b[0m\u001b[0m\n",
      "\u001b[1;32m&lt;ipython-input-7-733ad6c27cc4&gt;\u001b[0m in \u001b[0;36mget_expect\u001b[1;34m(status_code)\u001b[0m\n\u001b[0;32m     27\u001b[0m                     new_status = YahtzeeStatus.compose_status_code(state, YahtzeeStatus.compose_dices(dices),\n\u001b[0;32m     28\u001b[0m                                                                    numerical, reroll_times - 1)\n\u001b[1;32m---&gt; 29\u001b[1;33m                     \u001b[1;32mif\u001b[0m \u001b[0mget_expect\u001b[0m\u001b[1;33m(\u001b[0m\u001b[0mnew_status\u001b[0m\u001b[1;33m)\u001b[0m \u001b[1;33m&gt;\u001b[0m \u001b[0mexpect\u001b[0m\u001b[1;33m:\u001b[0m\u001b[1;33m\u001b[0m\u001b[1;33m\u001b[0m\u001b[0m\n\u001b[0m\u001b[0;32m     30\u001b[0m                         \u001b[0mexpect\u001b[0m \u001b[1;33m=\u001b[0m \u001b[0mget_expect\u001b[0m\u001b[1;33m(\u001b[0m\u001b[0mnew_status\u001b[0m\u001b[1;33m)\u001b[0m\u001b[1;33m\u001b[0m\u001b[1;33m\u001b[0m\u001b[0m\n\u001b[0;32m     31\u001b[0m     \u001b[1;32melse\u001b[0m\u001b[1;33m:\u001b[0m\u001b[1;33m\u001b[0m\u001b[1;33m\u001b[0m\u001b[0m\n",
      "\u001b[1;32m&lt;ipython-input-7-733ad6c27cc4&gt;\u001b[0m in \u001b[0;36mget_expect\u001b[1;34m(status_code)\u001b[0m\n\u001b[0;32m     41\u001b[0m                                                            numerical, reroll_times)\n\u001b[0;32m     42\u001b[0m             \u001b[1;31m# print(new_status)\u001b[0m\u001b[1;33m\u001b[0m\u001b[1;33m\u001b[0m\u001b[1;33m\u001b[0m\u001b[0m\n\u001b[1;32m---&gt; 43\u001b[1;33m             \u001b[0mexpect\u001b[0m \u001b[1;33m+=\u001b[0m \u001b[0mget_expect\u001b[0m\u001b[1;33m(\u001b[0m\u001b[0mnew_status\u001b[0m\u001b[1;33m)\u001b[0m \u001b[1;33m*\u001b[0m \u001b[0mprobability\u001b[0m\u001b[1;33m\u001b[0m\u001b[1;33m\u001b[0m\u001b[0m\n\u001b[0m\u001b[0;32m     44\u001b[0m \u001b[1;33m\u001b[0m\u001b[0m\n\u001b[0;32m     45\u001b[0m     \u001b[0mRewardTable\u001b[0m\u001b[1;33m[\u001b[0m\u001b[0mstatus_code\u001b[0m\u001b[1;33m]\u001b[0m \u001b[1;33m=\u001b[0m \u001b[0mexpect\u001b[0m\u001b[1;33m\u001b[0m\u001b[1;33m\u001b[0m\u001b[0m\n",
      "\u001b[1;32m&lt;ipython-input-7-733ad6c27cc4&gt;\u001b[0m in \u001b[0;36mget_expect\u001b[1;34m(status_code)\u001b[0m\n\u001b[0;32m     17\u001b[0m             \u001b[0mnew_status\u001b[0m \u001b[1;33m=\u001b[0m \u001b[0mcontroller\u001b[0m\u001b[1;33m.\u001b[0m\u001b[0mwrite_by_statuscode\u001b[0m\u001b[1;33m(\u001b[0m\u001b[0mstatus_code\u001b[0m\u001b[1;33m,\u001b[0m \u001b[0mw\u001b[0m\u001b[1;33m)\u001b[0m\u001b[1;33m\u001b[0m\u001b[1;33m\u001b[0m\u001b[0m\n\u001b[0;32m     18\u001b[0m \u001b[1;33m\u001b[0m\u001b[0m\n\u001b[1;32m---&gt; 19\u001b[1;33m             new_expect = get_expect(\n\u001b[0m\u001b[0;32m     20\u001b[0m                 new_status) + controller.judge_by_statuscode(status_code, w)\n\u001b[0;32m     21\u001b[0m             \u001b[1;32mif\u001b[0m \u001b[0mnew_expect\u001b[0m \u001b[1;33m&gt;\u001b[0m \u001b[0mexpect\u001b[0m\u001b[1;33m:\u001b[0m\u001b[1;33m\u001b[0m\u001b[1;33m\u001b[0m\u001b[0m\n",
      "\u001b[1;32m&lt;ipython-input-7-733ad6c27cc4&gt;\u001b[0m in \u001b[0;36mget_expect\u001b[1;34m(status_code)\u001b[0m\n\u001b[0;32m     41\u001b[0m                                                            numerical, reroll_times)\n\u001b[0;32m     42\u001b[0m             \u001b[1;31m# print(new_status)\u001b[0m\u001b[1;33m\u001b[0m\u001b[1;33m\u001b[0m\u001b[1;33m\u001b[0m\u001b[0m\n\u001b[1;32m---&gt; 43\u001b[1;33m             \u001b[0mexpect\u001b[0m \u001b[1;33m+=\u001b[0m \u001b[0mget_expect\u001b[0m\u001b[1;33m(\u001b[0m\u001b[0mnew_status\u001b[0m\u001b[1;33m)\u001b[0m \u001b[1;33m*\u001b[0m \u001b[0mprobability\u001b[0m\u001b[1;33m\u001b[0m\u001b[1;33m\u001b[0m\u001b[0m\n\u001b[0m\u001b[0;32m     44\u001b[0m \u001b[1;33m\u001b[0m\u001b[0m\n\u001b[0;32m     45\u001b[0m     \u001b[0mRewardTable\u001b[0m\u001b[1;33m[\u001b[0m\u001b[0mstatus_code\u001b[0m\u001b[1;33m]\u001b[0m \u001b[1;33m=\u001b[0m \u001b[0mexpect\u001b[0m\u001b[1;33m\u001b[0m\u001b[1;33m\u001b[0m\u001b[0m\n",
      "\u001b[1;32m&lt;ipython-input-7-733ad6c27cc4&gt;\u001b[0m in \u001b[0;36mget_expect\u001b[1;34m(status_code)\u001b[0m\n\u001b[0;32m     27\u001b[0m                     new_status = YahtzeeStatus.compose_status_code(state, YahtzeeStatus.compose_dices(dices),\n\u001b[0;32m     28\u001b[0m                                                                    numerical, reroll_times - 1)\n\u001b[1;32m---&gt; 29\u001b[1;33m                     \u001b[1;32mif\u001b[0m \u001b[0mget_expect\u001b[0m\u001b[1;33m(\u001b[0m\u001b[0mnew_status\u001b[0m\u001b[1;33m)\u001b[0m \u001b[1;33m&gt;\u001b[0m \u001b[0mexpect\u001b[0m\u001b[1;33m:\u001b[0m\u001b[1;33m\u001b[0m\u001b[1;33m\u001b[0m\u001b[0m\n\u001b[0m\u001b[0;32m     30\u001b[0m                         \u001b[0mexpect\u001b[0m \u001b[1;33m=\u001b[0m \u001b[0mget_expect\u001b[0m\u001b[1;33m(\u001b[0m\u001b[0mnew_status\u001b[0m\u001b[1;33m)\u001b[0m\u001b[1;33m\u001b[0m\u001b[1;33m\u001b[0m\u001b[0m\n\u001b[0;32m     31\u001b[0m     \u001b[1;32melse\u001b[0m\u001b[1;33m:\u001b[0m\u001b[1;33m\u001b[0m\u001b[1;33m\u001b[0m\u001b[0m\n",
      "\u001b[1;32m&lt;ipython-input-7-733ad6c27cc4&gt;\u001b[0m in \u001b[0;36mget_expect\u001b[1;34m(status_code)\u001b[0m\n\u001b[0;32m     41\u001b[0m                                                            numerical, reroll_times)\n\u001b[0;32m     42\u001b[0m             \u001b[1;31m# print(new_status)\u001b[0m\u001b[1;33m\u001b[0m\u001b[1;33m\u001b[0m\u001b[1;33m\u001b[0m\u001b[0m\n\u001b[1;32m---&gt; 43\u001b[1;33m             \u001b[0mexpect\u001b[0m \u001b[1;33m+=\u001b[0m \u001b[0mget_expect\u001b[0m\u001b[1;33m(\u001b[0m\u001b[0mnew_status\u001b[0m\u001b[1;33m)\u001b[0m \u001b[1;33m*\u001b[0m \u001b[0mprobability\u001b[0m\u001b[1;33m\u001b[0m\u001b[1;33m\u001b[0m\u001b[0m\n\u001b[0m\u001b[0;32m     44\u001b[0m \u001b[1;33m\u001b[0m\u001b[0m\n\u001b[0;32m     45\u001b[0m     \u001b[0mRewardTable\u001b[0m\u001b[1;33m[\u001b[0m\u001b[0mstatus_code\u001b[0m\u001b[1;33m]\u001b[0m \u001b[1;33m=\u001b[0m \u001b[0mexpect\u001b[0m\u001b[1;33m\u001b[0m\u001b[1;33m\u001b[0m\u001b[0m\n",
      "\u001b[1;32m&lt;ipython-input-7-733ad6c27cc4&gt;\u001b[0m in \u001b[0;36mget_expect\u001b[1;34m(status_code)\u001b[0m\n\u001b[0;32m     27\u001b[0m                     new_status = YahtzeeStatus.compose_status_code(state, YahtzeeStatus.compose_dices(dices),\n\u001b[0;32m     28\u001b[0m                                                                    numerical, reroll_times - 1)\n\u001b[1;32m---&gt; 29\u001b[1;33m                     \u001b[1;32mif\u001b[0m \u001b[0mget_expect\u001b[0m\u001b[1;33m(\u001b[0m\u001b[0mnew_status\u001b[0m\u001b[1;33m)\u001b[0m \u001b[1;33m&gt;\u001b[0m \u001b[0mexpect\u001b[0m\u001b[1;33m:\u001b[0m\u001b[1;33m\u001b[0m\u001b[1;33m\u001b[0m\u001b[0m\n\u001b[0m\u001b[0;32m     30\u001b[0m                         \u001b[0mexpect\u001b[0m \u001b[1;33m=\u001b[0m \u001b[0mget_expect\u001b[0m\u001b[1;33m(\u001b[0m\u001b[0mnew_status\u001b[0m\u001b[1;33m)\u001b[0m\u001b[1;33m\u001b[0m\u001b[1;33m\u001b[0m\u001b[0m\n\u001b[0;32m     31\u001b[0m     \u001b[1;32melse\u001b[0m\u001b[1;33m:\u001b[0m\u001b[1;33m\u001b[0m\u001b[1;33m\u001b[0m\u001b[0m\n",
      "\u001b[1;32m&lt;ipython-input-7-733ad6c27cc4&gt;\u001b[0m in \u001b[0;36mget_expect\u001b[1;34m(status_code)\u001b[0m\n\u001b[0;32m     41\u001b[0m                                                            numerical, reroll_times)\n\u001b[0;32m     42\u001b[0m             \u001b[1;31m# print(new_status)\u001b[0m\u001b[1;33m\u001b[0m\u001b[1;33m\u001b[0m\u001b[1;33m\u001b[0m\u001b[0m\n\u001b[1;32m---&gt; 43\u001b[1;33m             \u001b[0mexpect\u001b[0m \u001b[1;33m+=\u001b[0m \u001b[0mget_expect\u001b[0m\u001b[1;33m(\u001b[0m\u001b[0mnew_status\u001b[0m\u001b[1;33m)\u001b[0m \u001b[1;33m*\u001b[0m \u001b[0mprobability\u001b[0m\u001b[1;33m\u001b[0m\u001b[1;33m\u001b[0m\u001b[0m\n\u001b[0m\u001b[0;32m     44\u001b[0m \u001b[1;33m\u001b[0m\u001b[0m\n\u001b[0;32m     45\u001b[0m     \u001b[0mRewardTable\u001b[0m\u001b[1;33m[\u001b[0m\u001b[0mstatus_code\u001b[0m\u001b[1;33m]\u001b[0m \u001b[1;33m=\u001b[0m \u001b[0mexpect\u001b[0m\u001b[1;33m\u001b[0m\u001b[1;33m\u001b[0m\u001b[0m\n",
      "\u001b[1;32m&lt;ipython-input-7-733ad6c27cc4&gt;\u001b[0m in \u001b[0;36mget_expect\u001b[1;34m(status_code)\u001b[0m\n\u001b[0;32m     17\u001b[0m             \u001b[0mnew_status\u001b[0m \u001b[1;33m=\u001b[0m \u001b[0mcontroller\u001b[0m\u001b[1;33m.\u001b[0m\u001b[0mwrite_by_statuscode\u001b[0m\u001b[1;33m(\u001b[0m\u001b[0mstatus_code\u001b[0m\u001b[1;33m,\u001b[0m \u001b[0mw\u001b[0m\u001b[1;33m)\u001b[0m\u001b[1;33m\u001b[0m\u001b[1;33m\u001b[0m\u001b[0m\n\u001b[0;32m     18\u001b[0m \u001b[1;33m\u001b[0m\u001b[0m\n\u001b[1;32m---&gt; 19\u001b[1;33m             new_expect = get_expect(\n\u001b[0m\u001b[0;32m     20\u001b[0m                 new_status) + controller.judge_by_statuscode(status_code, w)\n\u001b[0;32m     21\u001b[0m             \u001b[1;32mif\u001b[0m \u001b[0mnew_expect\u001b[0m \u001b[1;33m&gt;\u001b[0m \u001b[0mexpect\u001b[0m\u001b[1;33m:\u001b[0m\u001b[1;33m\u001b[0m\u001b[1;33m\u001b[0m\u001b[0m\n",
      "\u001b[1;32m&lt;ipython-input-7-733ad6c27cc4&gt;\u001b[0m in \u001b[0;36mget_expect\u001b[1;34m(status_code)\u001b[0m\n\u001b[0;32m     41\u001b[0m                                                            numerical, reroll_times)\n\u001b[0;32m     42\u001b[0m             \u001b[1;31m# print(new_status)\u001b[0m\u001b[1;33m\u001b[0m\u001b[1;33m\u001b[0m\u001b[1;33m\u001b[0m\u001b[0m\n\u001b[1;32m---&gt; 43\u001b[1;33m             \u001b[0mexpect\u001b[0m \u001b[1;33m+=\u001b[0m \u001b[0mget_expect\u001b[0m\u001b[1;33m(\u001b[0m\u001b[0mnew_status\u001b[0m\u001b[1;33m)\u001b[0m \u001b[1;33m*\u001b[0m \u001b[0mprobability\u001b[0m\u001b[1;33m\u001b[0m\u001b[1;33m\u001b[0m\u001b[0m\n\u001b[0m\u001b[0;32m     44\u001b[0m \u001b[1;33m\u001b[0m\u001b[0m\n\u001b[0;32m     45\u001b[0m     \u001b[0mRewardTable\u001b[0m\u001b[1;33m[\u001b[0m\u001b[0mstatus_code\u001b[0m\u001b[1;33m]\u001b[0m \u001b[1;33m=\u001b[0m \u001b[0mexpect\u001b[0m\u001b[1;33m\u001b[0m\u001b[1;33m\u001b[0m\u001b[0m\n",
      "\u001b[1;32m&lt;ipython-input-7-733ad6c27cc4&gt;\u001b[0m in \u001b[0;36mget_expect\u001b[1;34m(status_code)\u001b[0m\n\u001b[0;32m     18\u001b[0m \u001b[1;33m\u001b[0m\u001b[0m\n\u001b[0;32m     19\u001b[0m             new_expect = get_expect(\n\u001b[1;32m---&gt; 20\u001b[1;33m                 new_status) + controller.judge_by_statuscode(status_code, w)\n\u001b[0m\u001b[0;32m     21\u001b[0m             \u001b[1;32mif\u001b[0m \u001b[0mnew_expect\u001b[0m \u001b[1;33m&gt;\u001b[0m \u001b[0mexpect\u001b[0m\u001b[1;33m:\u001b[0m\u001b[1;33m\u001b[0m\u001b[1;33m\u001b[0m\u001b[0m\n\u001b[0;32m     22\u001b[0m                 \u001b[0mexpect\u001b[0m \u001b[1;33m=\u001b[0m \u001b[0mnew_expect\u001b[0m\u001b[1;33m\u001b[0m\u001b[1;33m\u001b[0m\u001b[0m\n",
      "\u001b[1;32mc:\\Workspace\\Yahtzee-AI\\simple search\\Controller.py\u001b[0m in \u001b[0;36mjudge_by_statuscode\u001b[1;34m(self, status_code, selected_type)\u001b[0m\n\u001b[0;32m     70\u001b[0m                 &quot;Invailed Choice&quot;)\n\u001b[0;32m     71\u001b[0m \u001b[1;33m\u001b[0m\u001b[0m\n\u001b[1;32m---&gt; 72\u001b[1;33m         \u001b[0mscore\u001b[0m \u001b[1;33m=\u001b[0m \u001b[0mself\u001b[0m\u001b[1;33m.\u001b[0m\u001b[0mjudger_dicehash_cache\u001b[0m\u001b[1;33m(\u001b[0m\u001b[0mdice_hash\u001b[0m\u001b[1;33m,\u001b[0m \u001b[0mselected_type\u001b[0m\u001b[1;33m)\u001b[0m\u001b[1;33m\u001b[0m\u001b[1;33m\u001b[0m\u001b[0m\n\u001b[0m\u001b[0;32m     73\u001b[0m         \u001b[1;32mif\u001b[0m \u001b[0mselected_type\u001b[0m \u001b[1;33m&lt;=\u001b[0m \u001b[0mScoreType\u001b[0m\u001b[1;33m.\u001b[0m\u001b[0mSixes\u001b[0m \u001b[1;32mand\u001b[0m \u001b[0mnumerical\u001b[0m \u001b[1;33m&lt;\u001b[0m \u001b[1;36m63\u001b[0m \u001b[1;32mand\u001b[0m \u001b[0mnumerical\u001b[0m \u001b[1;33m+\u001b[0m \u001b[0mscore\u001b[0m \u001b[1;33m&gt;=\u001b[0m \u001b[1;36m63\u001b[0m\u001b[1;33m:\u001b[0m\u001b[1;33m\u001b[0m\u001b[1;33m\u001b[0m\u001b[0m\n\u001b[0;32m     74\u001b[0m             \u001b[0mscore\u001b[0m \u001b[1;33m+=\u001b[0m \u001b[1;36m35\u001b[0m\u001b[1;33m\u001b[0m\u001b[1;33m\u001b[0m\u001b[0m\n",
      "\u001b[1;32mc:\\Workspace\\Yahtzee-AI\\simple search\\Controller.py\u001b[0m in \u001b[0;36mjudger_dicehash_cache\u001b[1;34m(self, dice_hash, selected_type)\u001b[0m\n\u001b[0;32m     48\u001b[0m \u001b[1;33m\u001b[0m\u001b[0m\n\u001b[0;32m     49\u001b[0m     \u001b[1;32mdef\u001b[0m \u001b[0mjudger_dicehash_cache\u001b[0m\u001b[1;33m(\u001b[0m\u001b[0mself\u001b[0m\u001b[1;33m,\u001b[0m \u001b[0mdice_hash\u001b[0m\u001b[1;33m,\u001b[0m \u001b[0mselected_type\u001b[0m\u001b[1;33m)\u001b[0m\u001b[1;33m:\u001b[0m\u001b[1;33m\u001b[0m\u001b[1;33m\u001b[0m\u001b[0m\n\u001b[1;32m---&gt; 50\u001b[1;33m         \u001b[1;32mif\u001b[0m \u001b[1;33m(\u001b[0m\u001b[0mdice_hash\u001b[0m\u001b[1;33m,\u001b[0m \u001b[0mselected_type\u001b[0m\u001b[1;33m)\u001b[0m \u001b[1;32mnot\u001b[0m \u001b[1;32min\u001b[0m \u001b[0mself\u001b[0m\u001b[1;33m.\u001b[0m\u001b[0m_judger_cache\u001b[0m\u001b[1;33m:\u001b[0m\u001b[1;33m\u001b[0m\u001b[1;33m\u001b[0m\u001b[0m\n\u001b[0m\u001b[0;32m     51\u001b[0m             \u001b[0mdices\u001b[0m \u001b[1;33m=\u001b[0m \u001b[0mYahtzeeStatus\u001b[0m\u001b[1;33m.\u001b[0m\u001b[0mparse_dices\u001b[0m\u001b[1;33m(\u001b[0m\u001b[0mdice_hash\u001b[0m\u001b[1;33m)\u001b[0m\u001b[1;33m\u001b[0m\u001b[1;33m\u001b[0m\u001b[0m\n\u001b[0;32m     52\u001b[0m             \u001b[0mscore\u001b[0m \u001b[1;33m=\u001b[0m \u001b[0mself\u001b[0m\u001b[1;33m.\u001b[0m\u001b[0mbasic_scores\u001b[0m\u001b[1;33m[\u001b[0m\u001b[0mselected_type\u001b[0m\u001b[1;33m]\u001b[0m\u001b[1;33m(\u001b[0m\u001b[0mdices\u001b[0m\u001b[1;33m)\u001b[0m\u001b[1;33m\u001b[0m\u001b[1;33m\u001b[0m\u001b[0m\n",
      "\u001b[1;31mKeyboardInterrupt\u001b[0m: "
     ]
    }
   ],
   "source": [
    "init_status = 2\n",
    "print(get_expect(init_status))"
   ]
  },
  {
   "cell_type": "code",
   "execution_count": null,
   "metadata": {},
   "outputs": [],
   "source": []
  }
 ]
}